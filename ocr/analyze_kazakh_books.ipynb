{
 "cells": [
  {
   "cell_type": "code",
   "execution_count": null,
   "metadata": {},
   "outputs": [],
   "source": []
  },
  {
   "cell_type": "code",
   "execution_count": 2,
   "metadata": {},
   "outputs": [
    {
     "name": "stdout",
     "output_type": "stream",
     "text": [
      "Processing CSV file in chunks...\n"
     ]
    },
    {
     "name": "stderr",
     "output_type": "stream",
     "text": [
      "9it [02:19, 15.47s/it]\n"
     ]
    },
    {
     "name": "stdout",
     "output_type": "stream",
     "text": [
      "Sorting words by frequency...\n",
      "Writing to output file...\n"
     ]
    }
   ],
   "source": [
    "import collections\n",
    "import re\n",
    "import csv\n",
    "import pandas as pd\n",
    "from tqdm import tqdm\n",
    "\n",
    "def process_chunk(chunk, word_counts):\n",
    "    chunk = chunk[chunk['contains_kaz_symbols'] == 1]\n",
    "    for _, row in chunk.iterrows():\n",
    "        text = str(row['text'])\n",
    "        words = re.findall(r'\\b[^\\W\\d_]{1,}\\b', text.lower())\n",
    "        word_counts.update(words)\n",
    "\n",
    "def get_unigram_frequencies(in_file, out_file, chunk_size=1000):\n",
    "\n",
    "    word_counts = collections.Counter()\n",
    "\n",
    "    # Process the CSV file in chunks\n",
    "    print('Processing CSV file in chunks...')\n",
    "    for chunk in tqdm(pd.read_csv(in_file, chunksize=chunk_size)):\n",
    "        process_chunk(chunk, word_counts)\n",
    "\n",
    "    # Sort the words by frequency\n",
    "    print('Sorting words by frequency...')\n",
    "    sorted_words = sorted(word_counts.items(), key=lambda x: x[1], reverse=True)\n",
    "\n",
    "    # Write the word frequencies to the output file\n",
    "    print('Writing to output file...')\n",
    "    with open(out_file, 'w', newline='') as outfile:\n",
    "        writer = csv.writer(outfile)\n",
    "        writer.writerow(['word', 'count'])  # Write header\n",
    "        for word, count in sorted_words:\n",
    "            if count < 10:\n",
    "                continue\n",
    "            writer.writerow([word, count])\n",
    "\n",
    "if __name__ == '__main__':\n",
    "    # Test the function\n",
    "    get_unigram_frequencies('kazakhBooks.csv', 'output_unigrams.csv', chunk_size=1000)"
   ]
  },
  {
   "cell_type": "code",
   "execution_count": null,
   "metadata": {},
   "outputs": [],
   "source": []
  }
 ],
 "metadata": {
  "kernelspec": {
   "display_name": "generate",
   "language": "python",
   "name": "python3"
  },
  "language_info": {
   "codemirror_mode": {
    "name": "ipython",
    "version": 3
   },
   "file_extension": ".py",
   "mimetype": "text/x-python",
   "name": "python",
   "nbconvert_exporter": "python",
   "pygments_lexer": "ipython3",
   "version": "3.10.14"
  }
 },
 "nbformat": 4,
 "nbformat_minor": 2
}
