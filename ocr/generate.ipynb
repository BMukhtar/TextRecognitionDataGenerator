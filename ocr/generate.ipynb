{
 "cells": [
  {
   "cell_type": "code",
   "execution_count": 1,
   "outputs": [],
   "source": [
    "!rm -rf ./images\n",
    "!mkdir images"
   ],
   "metadata": {
    "collapsed": false,
    "ExecuteTime": {
     "end_time": "2023-07-12T09:11:41.793084700Z",
     "start_time": "2023-07-12T09:11:41.570630600Z"
    }
   }
  },
  {
   "cell_type": "code",
   "execution_count": 2,
   "outputs": [
    {
     "name": "stdout",
     "output_type": "stream",
     "text": [
      "['./fonts/Caveat-Medium.ttf', './fonts/RobotoMono-SemiBoldItalic.ttf', './fonts/Lobster-Regular.ttf', './fonts/RobotoMono-BoldItalic.ttf', './fonts/RobotoMono-ExtraLightItalic.ttf', './fonts/RobotoMono-LightItalic.ttf', './fonts/Pangolin-Regular.ttf', './fonts/Pacifico-Regular.ttf', './fonts/Comfortaa-Light.ttf', './fonts/Comfortaa-Bold.ttf', './fonts/RobotoMono-Medium.ttf', './fonts/Alice-Regular.ttf', './fonts/RubikDirt-Regular.ttf', './fonts/Comfortaa-Regular.ttf', './fonts/RobotoMono-Italic.ttf', './fonts/RobotoMono-Regular.ttf', './fonts/RobotoMono-Light.ttf', './fonts/RobotoMono-MediumItalic.ttf', './fonts/RobotoMono-Thin.ttf', './fonts/Caveat-SemiBold.ttf', './fonts/Comfortaa-Medium.ttf', './fonts/Comfortaa-SemiBold.ttf', './fonts/Caveat-Bold.ttf', './fonts/RobotoMono-Bold.ttf', './fonts/Caveat-Regular.ttf', './fonts/RobotoMono-SemiBold.ttf', './fonts/RobotoMono-ExtraLight.ttf', './fonts/RobotoMono-ThinItalic.ttf']\n"
     ]
    }
   ],
   "source": [
    "import os\n",
    "\n",
    "fonts_folder = \"./fonts\"\n",
    "def get_ttf_files(folder):\n",
    "    ttf_files = []\n",
    "\n",
    "    for dirpath, dirnames, filenames in os.walk(folder):\n",
    "        for filename in [f for f in filenames if f.endswith(\".ttf\")]:\n",
    "            ttf_files.append(os.path.join(dirpath, filename))\n",
    "\n",
    "    return ttf_files\n",
    "\n",
    "ttf_files = get_ttf_files(fonts_folder)\n",
    "print(ttf_files)"
   ],
   "metadata": {
    "collapsed": false,
    "ExecuteTime": {
     "end_time": "2023-07-12T10:42:08.766929200Z",
     "start_time": "2023-07-12T10:42:08.705979800Z"
    }
   }
  },
  {
   "cell_type": "code",
   "execution_count": 11,
   "outputs": [],
   "source": [
    "!mkdir -p ../../PaddleOCR_Mukhtar/train_data/rec/synthetic/img"
   ],
   "metadata": {
    "collapsed": false,
    "ExecuteTime": {
     "end_time": "2023-07-12T11:09:13.559134400Z",
     "start_time": "2023-07-12T11:09:13.397238200Z"
    }
   }
  },
  {
   "cell_type": "code",
   "execution_count": 17,
   "outputs": [],
   "source": [
    "from trdg.generators import GeneratorFromDict\n",
    "\n",
    "generator = GeneratorFromDict(\n",
    "    blur=1,\n",
    "    length=1,\n",
    "    random_blur=True,\n",
    "    random_skew = True,\n",
    "    size=50,\n",
    "    skewing_angle=20,\n",
    "    count=1000,\n",
    "    distorsion_type=3,\n",
    "    # text_color=\"#000000\",\n",
    "    # fit=True,\n",
    "    path=\"./kk_dict.txt\",\n",
    "    text_colors=[\"#282828\", \"#000000\", \"#333333\", \"#666666\", \"#999999\"],\n",
    "    fonts=ttf_files,\n",
    "    stroke_widths=[0],\n",
    "    space_widths=[1.0],\n",
    "    character_spacings=[0],\n",
    "    stroke_fills=[\"#282828\", \"#000000\", \"#333333\", \"#666666\", \"#999999\"],\n",
    ")\n",
    "\n",
    "train_folder = \"../../PaddleOCR_Mukhtar/train_data/rec/synthetic/\"\n",
    "relative_train_folder = \"./train_data/rec/synthetic/\"\n",
    "with open(f\"{train_folder}gt.txt\", \"w\") as f:\n",
    "    for idx, (img, lbl) in enumerate(generator):\n",
    "        file_name = f\"word_{str(idx).zfill(3)}.jpg\"\n",
    "        file_path = f\"{train_folder}img/{file_name}\"\n",
    "        img.save(file_path)\n",
    "        f.write(f\"{relative_train_folder}img/{file_name}   {lbl}\\n\")"
   ],
   "metadata": {
    "collapsed": false,
    "ExecuteTime": {
     "end_time": "2023-07-12T11:14:01.914267500Z",
     "start_time": "2023-07-12T11:13:51.478697300Z"
    }
   }
  },
  {
   "cell_type": "code",
   "execution_count": null,
   "outputs": [],
   "source": [],
   "metadata": {
    "collapsed": false
   }
  }
 ],
 "metadata": {
  "kernelspec": {
   "display_name": "Python 3",
   "language": "python",
   "name": "python3"
  },
  "language_info": {
   "codemirror_mode": {
    "name": "ipython",
    "version": 2
   },
   "file_extension": ".py",
   "mimetype": "text/x-python",
   "name": "python",
   "nbconvert_exporter": "python",
   "pygments_lexer": "ipython2",
   "version": "2.7.6"
  }
 },
 "nbformat": 4,
 "nbformat_minor": 0
}
