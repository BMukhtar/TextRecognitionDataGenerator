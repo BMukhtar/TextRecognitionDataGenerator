{
 "cells": [
  {
   "cell_type": "code",
   "execution_count": 20,
   "metadata": {
    "ExecuteTime": {
     "end_time": "2023-07-13T08:29:42.512736800Z",
     "start_time": "2023-07-13T08:29:42.459274Z"
    },
    "collapsed": false
   },
   "outputs": [
    {
     "name": "stdout",
     "output_type": "stream",
     "text": [
      "['./fonts/Caveat-Medium.ttf', './fonts/Comfortaa-Regular.ttf', './fonts/RobotoMono-ExtraLightItalic.ttf', './fonts/Comfortaa-Bold.ttf', './fonts/RobotoMono-Thin.ttf', './fonts/Pangolin-Regular.ttf', './fonts/Caveat-SemiBold.ttf', './fonts/RobotoMono-Light.ttf', './fonts/Comfortaa-Medium.ttf', './fonts/Comfortaa-SemiBold.ttf', './fonts/Caveat-Regular.ttf', './fonts/RobotoMono-SemiBoldItalic.ttf', './fonts/RobotoMono-LightItalic.ttf', './fonts/RobotoMono-Bold.ttf', './fonts/Alice-Regular.ttf', './fonts/RobotoMono-BoldItalic.ttf', './fonts/Lobster-Regular.ttf', './fonts/RobotoMono-ThinItalic.ttf', './fonts/RobotoMono-Regular.ttf', './fonts/RobotoMono-Italic.ttf', './fonts/Caveat-Bold.ttf', './fonts/RobotoMono-ExtraLight.ttf', './fonts/RobotoMono-SemiBold.ttf', './fonts/RubikDirt-Regular.ttf', './fonts/RobotoMono-Medium.ttf', './fonts/Pacifico-Regular.ttf', './fonts/RobotoMono-MediumItalic.ttf', './fonts/Comfortaa-Light.ttf']\n"
     ]
    }
   ],
   "source": [
    "import os\n",
    "\n",
    "fonts_folder = \"./fonts\"\n",
    "def get_ttf_files(folder):\n",
    "    ttf_files = []\n",
    "\n",
    "    for dirpath, dirnames, filenames in os.walk(folder):\n",
    "        for filename in [f for f in filenames if f.endswith(\".ttf\")]:\n",
    "            ttf_files.append(os.path.join(dirpath, filename))\n",
    "\n",
    "    return ttf_files\n",
    "\n",
    "ttf_files = get_ttf_files(fonts_folder)\n",
    "print(ttf_files)"
   ]
  },
  {
   "cell_type": "code",
   "execution_count": 21,
   "metadata": {
    "ExecuteTime": {
     "end_time": "2023-07-13T08:29:42.860717Z",
     "start_time": "2023-07-13T08:29:42.753295200Z"
    },
    "collapsed": false
   },
   "outputs": [],
   "source": [
    "!rm -rf ../../PaddleOCR_Mukhtar/train_data/rec/synthetic\n",
    "!mkdir -p ../../PaddleOCR_Mukhtar/train_data/rec/synthetic/img"
   ]
  },
  {
   "cell_type": "code",
   "execution_count": 22,
   "metadata": {
    "ExecuteTime": {
     "end_time": "2023-07-13T08:29:43.383469600Z",
     "start_time": "2023-07-13T08:29:43.365450100Z"
    },
    "collapsed": false
   },
   "outputs": [
    {
     "name": "stderr",
     "output_type": "stream",
     "text": [
      "  2%|▏         | 787/51000 [00:14<15:14, 54.92it/s]\n"
     ]
    },
    {
     "ename": "KeyboardInterrupt",
     "evalue": "",
     "output_type": "error",
     "traceback": [
      "\u001b[0;31m---------------------------------------------------------------------------\u001b[0m",
      "\u001b[0;31mKeyboardInterrupt\u001b[0m                         Traceback (most recent call last)",
      "Cell \u001b[0;32mIn[22], line 34\u001b[0m\n\u001b[1;32m     32\u001b[0m \u001b[39mwith\u001b[39;00m \u001b[39mopen\u001b[39m(\u001b[39mf\u001b[39m\u001b[39m\"\u001b[39m\u001b[39m{\u001b[39;00mtrain_folder\u001b[39m}\u001b[39;00m\u001b[39msynthetic_test.txt\u001b[39m\u001b[39m\"\u001b[39m, \u001b[39m\"\u001b[39m\u001b[39mw\u001b[39m\u001b[39m\"\u001b[39m) \u001b[39mas\u001b[39;00m test_file, \u001b[39mopen\u001b[39m(\u001b[39mf\u001b[39m\u001b[39m\"\u001b[39m\u001b[39m{\u001b[39;00mtrain_folder\u001b[39m}\u001b[39;00m\u001b[39msynthetic_train.txt\u001b[39m\u001b[39m\"\u001b[39m, \u001b[39m\"\u001b[39m\u001b[39mw\u001b[39m\u001b[39m\"\u001b[39m) \u001b[39mas\u001b[39;00m train_file:\n\u001b[1;32m     33\u001b[0m     \u001b[39mfor\u001b[39;00m idx \u001b[39min\u001b[39;00m tqdm(\u001b[39mrange\u001b[39m(image_count)):\n\u001b[0;32m---> 34\u001b[0m         (img, lbl) \u001b[39m=\u001b[39m generator\u001b[39m.\u001b[39;49mnext()\n\u001b[1;32m     35\u001b[0m         file_name \u001b[39m=\u001b[39m \u001b[39mf\u001b[39m\u001b[39m\"\u001b[39m\u001b[39mword_\u001b[39m\u001b[39m{\u001b[39;00m\u001b[39mstr\u001b[39m(idx)\u001b[39m.\u001b[39mzfill(\u001b[39m3\u001b[39m)\u001b[39m}\u001b[39;00m\u001b[39m.jpg\u001b[39m\u001b[39m\"\u001b[39m\n\u001b[1;32m     36\u001b[0m         file_path \u001b[39m=\u001b[39m \u001b[39mf\u001b[39m\u001b[39m\"\u001b[39m\u001b[39m{\u001b[39;00mtrain_folder\u001b[39m}\u001b[39;00m\u001b[39mimg/\u001b[39m\u001b[39m{\u001b[39;00mfile_name\u001b[39m}\u001b[39;00m\u001b[39m\"\u001b[39m\n",
      "File \u001b[0;32m~/bma/TextRecognitionDataGenerator/ocr/../trdg/generators/from_dict.py:115\u001b[0m, in \u001b[0;36mGeneratorFromDict.next\u001b[0;34m(self)\u001b[0m\n\u001b[1;32m    111\u001b[0m     \u001b[39mself\u001b[39m\u001b[39m.\u001b[39mgenerator\u001b[39m.\u001b[39mstrings \u001b[39m=\u001b[39m create_strings_from_dict(\n\u001b[1;32m    112\u001b[0m         \u001b[39mself\u001b[39m\u001b[39m.\u001b[39mlength, \u001b[39mself\u001b[39m\u001b[39m.\u001b[39mallow_variable, \u001b[39mself\u001b[39m\u001b[39m.\u001b[39mbatch_size, \u001b[39mself\u001b[39m\u001b[39m.\u001b[39mdict\n\u001b[1;32m    113\u001b[0m     )\n\u001b[1;32m    114\u001b[0m     \u001b[39mself\u001b[39m\u001b[39m.\u001b[39msteps_until_regeneration \u001b[39m+\u001b[39m\u001b[39m=\u001b[39m \u001b[39mself\u001b[39m\u001b[39m.\u001b[39mbatch_size\n\u001b[0;32m--> 115\u001b[0m \u001b[39mreturn\u001b[39;00m \u001b[39mself\u001b[39;49m\u001b[39m.\u001b[39;49mgenerator\u001b[39m.\u001b[39;49mnext()\n",
      "File \u001b[0;32m~/bma/TextRecognitionDataGenerator/ocr/../trdg/generators/from_strings.py:109\u001b[0m, in \u001b[0;36mGeneratorFromStrings.next\u001b[0;34m(self)\u001b[0m\n\u001b[1;32m    106\u001b[0m     \u001b[39mraise\u001b[39;00m \u001b[39mStopIteration\u001b[39;00m\n\u001b[1;32m    107\u001b[0m \u001b[39mself\u001b[39m\u001b[39m.\u001b[39mgenerated_count \u001b[39m+\u001b[39m\u001b[39m=\u001b[39m \u001b[39m1\u001b[39m\n\u001b[1;32m    108\u001b[0m \u001b[39mreturn\u001b[39;00m (\n\u001b[0;32m--> 109\u001b[0m     FakeTextDataGenerator\u001b[39m.\u001b[39;49mgenerate(\n\u001b[1;32m    110\u001b[0m         \u001b[39mself\u001b[39;49m\u001b[39m.\u001b[39;49mgenerated_count,\n\u001b[1;32m    111\u001b[0m         \u001b[39mself\u001b[39;49m\u001b[39m.\u001b[39;49mstrings[(\u001b[39mself\u001b[39;49m\u001b[39m.\u001b[39;49mgenerated_count \u001b[39m-\u001b[39;49m \u001b[39m1\u001b[39;49m) \u001b[39m%\u001b[39;49m \u001b[39mlen\u001b[39;49m(\u001b[39mself\u001b[39;49m\u001b[39m.\u001b[39;49mstrings)],\n\u001b[1;32m    112\u001b[0m         \u001b[39mself\u001b[39;49m\u001b[39m.\u001b[39;49mfonts[(\u001b[39mself\u001b[39;49m\u001b[39m.\u001b[39;49mgenerated_count \u001b[39m-\u001b[39;49m \u001b[39m1\u001b[39;49m) \u001b[39m%\u001b[39;49m \u001b[39mlen\u001b[39;49m(\u001b[39mself\u001b[39;49m\u001b[39m.\u001b[39;49mfonts)],\n\u001b[1;32m    113\u001b[0m         \u001b[39mself\u001b[39;49m\u001b[39m.\u001b[39;49mout_dir,\n\u001b[1;32m    114\u001b[0m         \u001b[39mself\u001b[39;49m\u001b[39m.\u001b[39;49msize,\n\u001b[1;32m    115\u001b[0m         \u001b[39mself\u001b[39;49m\u001b[39m.\u001b[39;49mextension,\n\u001b[1;32m    116\u001b[0m         \u001b[39mself\u001b[39;49m\u001b[39m.\u001b[39;49mskewing_angle,\n\u001b[1;32m    117\u001b[0m         \u001b[39mself\u001b[39;49m\u001b[39m.\u001b[39;49mrandom_skew,\n\u001b[1;32m    118\u001b[0m         \u001b[39mself\u001b[39;49m\u001b[39m.\u001b[39;49mblur,\n\u001b[1;32m    119\u001b[0m         \u001b[39mself\u001b[39;49m\u001b[39m.\u001b[39;49mrandom_blur,\n\u001b[1;32m    120\u001b[0m         random\u001b[39m.\u001b[39;49mchoice(\u001b[39mself\u001b[39;49m\u001b[39m.\u001b[39;49mbackground_types),\n\u001b[1;32m    121\u001b[0m         random\u001b[39m.\u001b[39;49mchoice(\u001b[39mself\u001b[39;49m\u001b[39m.\u001b[39;49mdistorsion_types),\n\u001b[1;32m    122\u001b[0m         \u001b[39mself\u001b[39;49m\u001b[39m.\u001b[39;49mdistorsion_orientation,\n\u001b[1;32m    123\u001b[0m         \u001b[39mself\u001b[39;49m\u001b[39m.\u001b[39;49mis_handwritten,\n\u001b[1;32m    124\u001b[0m         \u001b[39m0\u001b[39;49m,\n\u001b[1;32m    125\u001b[0m         \u001b[39mself\u001b[39;49m\u001b[39m.\u001b[39;49mwidth,\n\u001b[1;32m    126\u001b[0m         \u001b[39mself\u001b[39;49m\u001b[39m.\u001b[39;49malignment,\n\u001b[1;32m    127\u001b[0m         random\u001b[39m.\u001b[39;49mchoice(\u001b[39mself\u001b[39;49m\u001b[39m.\u001b[39;49mtext_colors),\n\u001b[1;32m    128\u001b[0m         \u001b[39mself\u001b[39;49m\u001b[39m.\u001b[39;49morientation,\n\u001b[1;32m    129\u001b[0m         random\u001b[39m.\u001b[39;49mchoice(\u001b[39mself\u001b[39;49m\u001b[39m.\u001b[39;49mspace_widths),\n\u001b[1;32m    130\u001b[0m         random\u001b[39m.\u001b[39;49mchoice(\u001b[39mself\u001b[39;49m\u001b[39m.\u001b[39;49mcharacter_spacings),\n\u001b[1;32m    131\u001b[0m         \u001b[39mself\u001b[39;49m\u001b[39m.\u001b[39;49mmargins,\n\u001b[1;32m    132\u001b[0m         \u001b[39mself\u001b[39;49m\u001b[39m.\u001b[39;49mfit,\n\u001b[1;32m    133\u001b[0m         \u001b[39mself\u001b[39;49m\u001b[39m.\u001b[39;49moutput_mask,\n\u001b[1;32m    134\u001b[0m         \u001b[39mself\u001b[39;49m\u001b[39m.\u001b[39;49mword_split,\n\u001b[1;32m    135\u001b[0m         \u001b[39mself\u001b[39;49m\u001b[39m.\u001b[39;49mimage_dir,\n\u001b[1;32m    136\u001b[0m         \u001b[39m# random stroke width and fill\u001b[39;49;00m\n\u001b[1;32m    137\u001b[0m         random\u001b[39m.\u001b[39;49mchoice(\u001b[39mself\u001b[39;49m\u001b[39m.\u001b[39;49mstroke_widths),\n\u001b[1;32m    138\u001b[0m         random\u001b[39m.\u001b[39;49mchoice(\u001b[39mself\u001b[39;49m\u001b[39m.\u001b[39;49mstroke_fills),\n\u001b[1;32m    139\u001b[0m         \u001b[39mself\u001b[39;49m\u001b[39m.\u001b[39;49mimage_mode,\n\u001b[1;32m    140\u001b[0m         \u001b[39mself\u001b[39;49m\u001b[39m.\u001b[39;49moutput_bboxes,\n\u001b[1;32m    141\u001b[0m     ),\n\u001b[1;32m    142\u001b[0m     \u001b[39mself\u001b[39m\u001b[39m.\u001b[39morig_strings[(\u001b[39mself\u001b[39m\u001b[39m.\u001b[39mgenerated_count \u001b[39m-\u001b[39m \u001b[39m1\u001b[39m) \u001b[39m%\u001b[39m \u001b[39mlen\u001b[39m(\u001b[39mself\u001b[39m\u001b[39m.\u001b[39morig_strings)]\n\u001b[1;32m    143\u001b[0m     \u001b[39mif\u001b[39;00m \u001b[39mself\u001b[39m\u001b[39m.\u001b[39mrtl\n\u001b[1;32m    144\u001b[0m     \u001b[39melse\u001b[39;00m \u001b[39mself\u001b[39m\u001b[39m.\u001b[39mstrings[(\u001b[39mself\u001b[39m\u001b[39m.\u001b[39mgenerated_count \u001b[39m-\u001b[39m \u001b[39m1\u001b[39m) \u001b[39m%\u001b[39m \u001b[39mlen\u001b[39m(\u001b[39mself\u001b[39m\u001b[39m.\u001b[39mstrings)],\n\u001b[1;32m    145\u001b[0m )\n",
      "File \u001b[0;32m~/bma/TextRecognitionDataGenerator/ocr/../trdg/data_generator.py:171\u001b[0m, in \u001b[0;36mFakeTextDataGenerator.generate\u001b[0;34m(cls, index, text, font, out_dir, size, extension, skewing_angle, random_skew, blur, random_blur, background_type, distorsion_type, distorsion_orientation, is_handwritten, name_format, width, alignment, text_color, orientation, space_width, character_spacing, margins, fit, output_mask, word_split, image_dir, stroke_width, stroke_fill, image_mode, output_bboxes)\u001b[0m\n\u001b[1;32m    167\u001b[0m     background_img \u001b[39m=\u001b[39m background_generator\u001b[39m.\u001b[39mplain_white(\n\u001b[1;32m    168\u001b[0m         background_height, background_width\n\u001b[1;32m    169\u001b[0m     )\n\u001b[1;32m    170\u001b[0m \u001b[39melif\u001b[39;00m background_type \u001b[39m==\u001b[39m \u001b[39m2\u001b[39m:\n\u001b[0;32m--> 171\u001b[0m     background_img \u001b[39m=\u001b[39m background_generator\u001b[39m.\u001b[39;49mquasicrystal(\n\u001b[1;32m    172\u001b[0m         background_height, background_width\n\u001b[1;32m    173\u001b[0m     )\n\u001b[1;32m    174\u001b[0m \u001b[39melse\u001b[39;00m:\n\u001b[1;32m    175\u001b[0m     background_img \u001b[39m=\u001b[39m background_generator\u001b[39m.\u001b[39mimage(\n\u001b[1;32m    176\u001b[0m         background_height, background_width, image_dir\n\u001b[1;32m    177\u001b[0m     )\n",
      "File \u001b[0;32m~/bma/TextRecognitionDataGenerator/ocr/../trdg/background_generator.py:51\u001b[0m, in \u001b[0;36mquasicrystal\u001b[0;34m(height, width)\u001b[0m\n\u001b[1;32m     49\u001b[0m \u001b[39mfor\u001b[39;00m i \u001b[39min\u001b[39;00m \u001b[39mrange\u001b[39m(rotation_count):\n\u001b[1;32m     50\u001b[0m     r \u001b[39m=\u001b[39m math\u001b[39m.\u001b[39mhypot(x, y)\n\u001b[0;32m---> 51\u001b[0m     a \u001b[39m=\u001b[39m math\u001b[39m.\u001b[39;49matan2(y, x) \u001b[39m+\u001b[39m i \u001b[39m*\u001b[39m math\u001b[39m.\u001b[39mpi \u001b[39m*\u001b[39m \u001b[39m2.0\u001b[39m \u001b[39m/\u001b[39m rotation_count\n\u001b[1;32m     52\u001b[0m     z \u001b[39m+\u001b[39m\u001b[39m=\u001b[39m math\u001b[39m.\u001b[39mcos(r \u001b[39m*\u001b[39m math\u001b[39m.\u001b[39msin(a) \u001b[39m*\u001b[39m frequency \u001b[39m+\u001b[39m phase)\n\u001b[1;32m     53\u001b[0m c \u001b[39m=\u001b[39m \u001b[39mint\u001b[39m(\u001b[39m255\u001b[39m \u001b[39m-\u001b[39m \u001b[39mround\u001b[39m(\u001b[39m255\u001b[39m \u001b[39m*\u001b[39m z \u001b[39m/\u001b[39m rotation_count))\n",
      "\u001b[0;31mKeyboardInterrupt\u001b[0m: "
     ]
    }
   ],
   "source": [
    "import sys\n",
    "sys.path.insert(0, '..')\n",
    "from trdg.generators import GeneratorFromDict\n",
    "\n",
    "generator = GeneratorFromDict(\n",
    "    blur=1,\n",
    "    length=1,\n",
    "    random_blur=True,\n",
    "    random_skew = True,\n",
    "    skewing_angle=5,\n",
    "    image_dir=\"./images\",\n",
    "    background_types=[0,1,2,3],\n",
    "    size=48,\n",
    "    distorsion_types=[0,1,2,3],\n",
    "    path=\"./kk_dict.txt\",\n",
    "    text_colors=[\"#282828\", \"#000000\", \"#333333\", \"#666666\", \"#999999\", \"#1520A6\",],\n",
    "    fonts=ttf_files,\n",
    "    stroke_widths=[-1, 0, 1],\n",
    "    character_spacings=[-1, 0, 1, 2, 3],\n",
    "    stroke_fills=[\"#282828\", \"#000000\", \"#333333\", \"#666666\", \"#999999\", \"#1520A6\",],\n",
    ")\n",
    "\n",
    "from tqdm import tqdm\n",
    "train_folder = \"../../PaddleOCR_Mukhtar/train_data/rec/synthetic/\"\n",
    "relative_train_folder = \"./train_data/rec/synthetic/\"\n",
    "\n",
    "# Define train and test split\n",
    "train_test_split = 1000\n",
    "\n",
    "image_count = 51000\n",
    "\n",
    "with open(f\"{train_folder}synthetic_test.txt\", \"w\") as test_file, open(f\"{train_folder}synthetic_train.txt\", \"w\") as train_file:\n",
    "    for idx in tqdm(range(image_count)):\n",
    "        (img, lbl) = generator.next()\n",
    "        file_name = f\"word_{str(idx).zfill(3)}.jpg\"\n",
    "        file_path = f\"{train_folder}img/{file_name}\"\n",
    "        img.save(file_path)\n",
    "\n",
    "        if idx < train_test_split:\n",
    "            # Write to test file\n",
    "            test_file.write(f\"{file_name}\\t{lbl}\\n\")\n",
    "        else:\n",
    "            # Write to train file\n",
    "            train_file.write(f\"{file_name}\\t{lbl}\\n\")"
   ]
  }
 ],
 "metadata": {
  "kernelspec": {
   "display_name": "Python 3.9.16 ('datagen')",
   "language": "python",
   "name": "python3"
  },
  "language_info": {
   "codemirror_mode": {
    "name": "ipython",
    "version": 3
   },
   "file_extension": ".py",
   "mimetype": "text/x-python",
   "name": "python",
   "nbconvert_exporter": "python",
   "pygments_lexer": "ipython3",
   "version": "3.9.16"
  },
  "vscode": {
   "interpreter": {
    "hash": "76d665447e013a9c6f1fd0233d9aba832ba7ed0fc6070f45399a876b596e5733"
   }
  }
 },
 "nbformat": 4,
 "nbformat_minor": 0
}
