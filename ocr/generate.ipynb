{
 "cells": [
  {
   "cell_type": "code",
   "execution_count": 1,
   "outputs": [],
   "source": [
    "!rm -rf ./images\n",
    "!mkdir images"
   ],
   "metadata": {
    "collapsed": false,
    "ExecuteTime": {
     "end_time": "2023-07-12T09:11:41.793084700Z",
     "start_time": "2023-07-12T09:11:41.570630600Z"
    }
   }
  },
  {
   "cell_type": "code",
   "execution_count": 12,
   "outputs": [
    {
     "name": "stdout",
     "output_type": "stream",
     "text": [
      "['./fonts/RobotoMono-SemiBoldItalic.ttf', './fonts/Comfortaa-Light.ttf', './fonts/RobotoMono-ThinItalic.ttf', './fonts/RobotoMono-Thin.ttf', './fonts/RobotoMono-SemiBold.ttf', './fonts/Comfortaa-SemiBold.ttf', './fonts/Caveat-Regular.ttf', './fonts/RobotoMono-Bold.ttf', './fonts/Alice-Regular.ttf', './fonts/RobotoMono-ExtraLight.ttf', './fonts/RobotoMono-MediumItalic.ttf', './fonts/Caveat-Medium.ttf', './fonts/RobotoMono-BoldItalic.ttf', './fonts/RobotoMono-Light.ttf', './fonts/RubikDirt-Regular.ttf', './fonts/RobotoMono-Italic.ttf', './fonts/RobotoMono-ExtraLightItalic.ttf', './fonts/Comfortaa-Medium.ttf', './fonts/RobotoMono-Regular.ttf', './fonts/RobotoMono-Medium.ttf', './fonts/RobotoMono-LightItalic.ttf', './fonts/Comfortaa-Regular.ttf', './fonts/Caveat-Bold.ttf', './fonts/Pacifico-Regular.ttf', './fonts/Lobster-Regular.ttf', './fonts/Pangolin-Regular.ttf', './fonts/Comfortaa-Bold.ttf', './fonts/Caveat-SemiBold.ttf']\n"
     ]
    }
   ],
   "source": [
    "import os\n",
    "\n",
    "fonts_folder = \"./fonts\"\n",
    "def get_ttf_files(folder):\n",
    "    ttf_files = []\n",
    "\n",
    "    for dirpath, dirnames, filenames in os.walk(folder):\n",
    "        for filename in [f for f in filenames if f.endswith(\".ttf\")]:\n",
    "            ttf_files.append(os.path.join(dirpath, filename))\n",
    "\n",
    "    return ttf_files\n",
    "\n",
    "ttf_files = get_ttf_files(fonts_folder)\n",
    "print(ttf_files)"
   ],
   "metadata": {
    "collapsed": false,
    "ExecuteTime": {
     "end_time": "2023-07-13T08:29:42.512736800Z",
     "start_time": "2023-07-13T08:29:42.459274Z"
    }
   }
  },
  {
   "cell_type": "code",
   "execution_count": 13,
   "outputs": [],
   "source": [
    "!mkdir -p ../../PaddleOCR_Mukhtar/train_data/rec/synthetic/img"
   ],
   "metadata": {
    "collapsed": false,
    "ExecuteTime": {
     "end_time": "2023-07-13T08:29:42.860717Z",
     "start_time": "2023-07-13T08:29:42.753295200Z"
    }
   }
  },
  {
   "cell_type": "code",
   "execution_count": 14,
   "outputs": [],
   "source": [
    "from trdg.generators import GeneratorFromDict\n",
    "\n",
    "generator = GeneratorFromDict(\n",
    "    blur=1,\n",
    "    length=1,\n",
    "    random_blur=True,\n",
    "    random_skew = True,\n",
    "    size=50,\n",
    "    skewing_angle=20,\n",
    "    distorsion_type=3,\n",
    "    # text_color=\"#000000\",\n",
    "    # fit=True,\n",
    "    path=\"./kk_dict.txt\",\n",
    "    text_colors=[\"#282828\", \"#000000\", \"#333333\", \"#666666\", \"#999999\"],\n",
    "    fonts=ttf_files,\n",
    "    stroke_widths=[0],\n",
    "    space_widths=[1.0],\n",
    "    character_spacings=[0],\n",
    "    stroke_fills=[\"#282828\", \"#000000\", \"#333333\", \"#666666\", \"#999999\"],\n",
    ")\n"
   ],
   "metadata": {
    "collapsed": false,
    "ExecuteTime": {
     "end_time": "2023-07-13T08:29:43.383469600Z",
     "start_time": "2023-07-13T08:29:43.365450100Z"
    }
   }
  },
  {
   "cell_type": "code",
   "execution_count": 16,
   "outputs": [
    {
     "name": "stderr",
     "output_type": "stream",
     "text": [
      "100%|██████████| 10000/10000 [01:50<00:00, 90.42it/s]\n"
     ]
    }
   ],
   "source": [
    "from tqdm import tqdm\n",
    "train_folder = \"../../PaddleOCR_Mukhtar/train_data/rec/synthetic/\"\n",
    "relative_train_folder = \"./train_data/rec/synthetic/\"\n",
    "\n",
    "# Define train and test split\n",
    "train_test_split = 1000\n",
    "\n",
    "image_count = 10000\n",
    "\n",
    "with open(f\"{train_folder}synthetic_test.txt\", \"w\") as test_file, open(f\"{train_folder}synthetic_train.txt\", \"w\") as train_file:\n",
    "    for idx in tqdm(range(image_count)):\n",
    "        (img, lbl) = generator.next()\n",
    "        file_name = f\"word_{str(idx).zfill(3)}.jpg\"\n",
    "        file_path = f\"{train_folder}img/{file_name}\"\n",
    "        img.save(file_path)\n",
    "\n",
    "        if idx < train_test_split:\n",
    "            # Write to test file\n",
    "            test_file.write(f\"{file_name}\\t{lbl}\\n\")\n",
    "        else:\n",
    "            # Write to train file\n",
    "            train_file.write(f\"{file_name}\\t{lbl}\\n\")\n"
   ],
   "metadata": {
    "collapsed": false,
    "ExecuteTime": {
     "end_time": "2023-07-13T08:32:32.728761Z",
     "start_time": "2023-07-13T08:30:42.131555200Z"
    }
   }
  },
  {
   "cell_type": "code",
   "execution_count": null,
   "outputs": [],
   "source": [],
   "metadata": {
    "collapsed": false
   }
  }
 ],
 "metadata": {
  "kernelspec": {
   "display_name": "Python 3",
   "language": "python",
   "name": "python3"
  },
  "language_info": {
   "codemirror_mode": {
    "name": "ipython",
    "version": 2
   },
   "file_extension": ".py",
   "mimetype": "text/x-python",
   "name": "python",
   "nbconvert_exporter": "python",
   "pygments_lexer": "ipython2",
   "version": "2.7.6"
  }
 },
 "nbformat": 4,
 "nbformat_minor": 0
}
