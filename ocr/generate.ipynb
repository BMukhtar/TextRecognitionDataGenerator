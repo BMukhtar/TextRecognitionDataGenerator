{
 "cells": [
  {
   "cell_type": "code",
   "execution_count": 2,
   "metadata": {
    "collapsed": false,
    "ExecuteTime": {
     "end_time": "2023-07-21T02:59:49.420169200Z",
     "start_time": "2023-07-21T02:59:49.159618400Z"
    }
   },
   "outputs": [],
   "source": [
    "!rm -rf ../../PaddleOCR_Mukhtar/train_data/rec/synthetic\n",
    "!mkdir -p ../../PaddleOCR_Mukhtar/train_data/rec/synthetic/img"
   ]
  },
  {
   "cell_type": "code",
   "execution_count": null,
   "metadata": {
    "collapsed": false,
    "is_executing": true,
    "ExecuteTime": {
     "start_time": "2023-07-21T02:15:31.959241200Z"
    }
   },
   "outputs": [
    {
     "name": "stderr",
     "output_type": "stream",
     "text": [
      " 50%|████▉     | 81048/162192 [29:34<33:23, 40.50it/s]  "
     ]
    }
   ],
   "source": [
    "import sys\n",
    "sys.path.insert(0, '..')\n",
    "from trdg.generators import GeneratorFromDict\n",
    "import random\n",
    "\n",
    "import os\n",
    "\n",
    "fonts_folder = \"./fonts\"\n",
    "def get_ttf_files(folder):\n",
    "    ttf_files = []\n",
    "\n",
    "    for dirpath, dirnames, filenames in os.walk(folder):\n",
    "        for filename in [f for f in filenames if f.endswith(\".ttf\")]:\n",
    "            ttf_files.append(os.path.join(dirpath, filename))\n",
    "\n",
    "    return ttf_files\n",
    "\n",
    "ttf_files = get_ttf_files(fonts_folder)\n",
    "\n",
    "def generate_margins(n = 100, m = 5):\n",
    "    res = []\n",
    "    for i in range(n):\n",
    "        res.append((random.randint(0, m), random.randint(0, m), random.randint(0, m), random.randint(0, m)))\n",
    "    return res\n",
    "\n",
    "generator = GeneratorFromDict(\n",
    "    blur=1,\n",
    "    length=1,\n",
    "    random_blur=True,\n",
    "    image_dir=\"./images\",\n",
    "    background_types=[0,1,2,3],\n",
    "    size=48,\n",
    "    distorsion_types=[0,1,2,3],\n",
    "    path=\"./kk_dict.txt\",\n",
    "    text_colors=[\"#282828\", \"#000000\", \"#333333\", \"#666666\", \"#999999\", \"#1520A6\",],\n",
    "    fonts=ttf_files,\n",
    "    stroke_widths=[-1, 0, 1],\n",
    "    character_spacings=[-1, 0, 1, 2, 3],\n",
    "    stroke_fills=[\"#282828\", \"#000000\", \"#333333\", \"#666666\", \"#999999\", \"#1520A6\",],\n",
    "    margins=generate_margins(),\n",
    "    random_case=True,\n",
    ")\n",
    "\n",
    "from tqdm import tqdm\n",
    "train_folder = \"../../PaddleOCR_Mukhtar/train_data/rec/synthetic/\"\n",
    "relative_train_folder = \"./train_data/rec/synthetic/\"\n",
    "\n",
    "# Define train and test split\n",
    "\n",
    "dict_size = 54064\n",
    "\n",
    "train_test_split = dict_size\n",
    "\n",
    "image_count = dict_size * 3\n",
    "offset = 0\n",
    "\n",
    "with open(f\"{train_folder}synthetic_test.txt\", \"a\") as test_file, open(f\"{train_folder}synthetic_train.txt\", \"a\") as train_file:\n",
    "    for idx in tqdm(range(offset, image_count)):\n",
    "        (img, lbl) = generator.next()\n",
    "        file_name = f\"word_{str(idx).zfill(3)}.jpg\"\n",
    "        file_path = f\"{train_folder}img/{file_name}\"\n",
    "        img.save(file_path)\n",
    "\n",
    "        if idx < train_test_split:\n",
    "            # Write to test file\n",
    "            test_file.write(f\"{file_name}\\t{lbl}\\n\")\n",
    "        else:\n",
    "            # Write to train file\n",
    "            train_file.write(f\"{file_name}\\t{lbl}\\n\")"
   ]
  },
  {
   "cell_type": "code",
   "execution_count": null,
   "outputs": [],
   "source": [],
   "metadata": {
    "collapsed": false
   }
  }
 ],
 "metadata": {
  "kernelspec": {
   "display_name": "Python 3.9.16 ('datagen')",
   "language": "python",
   "name": "python3"
  },
  "language_info": {
   "codemirror_mode": {
    "name": "ipython",
    "version": 3
   },
   "file_extension": ".py",
   "mimetype": "text/x-python",
   "name": "python",
   "nbconvert_exporter": "python",
   "pygments_lexer": "ipython3",
   "version": "3.9.16"
  },
  "vscode": {
   "interpreter": {
    "hash": "76d665447e013a9c6f1fd0233d9aba832ba7ed0fc6070f45399a876b596e5733"
   }
  }
 },
 "nbformat": 4,
 "nbformat_minor": 0
}
