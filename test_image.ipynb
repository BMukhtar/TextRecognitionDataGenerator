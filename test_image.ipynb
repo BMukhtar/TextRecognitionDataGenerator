{
 "cells": [
  {
   "cell_type": "code",
   "execution_count": null,
   "metadata": {},
   "outputs": [],
   "source": [
    "\n",
    "import os\n",
    "import random as rnd\n",
    "from PIL import Image, ImageFilter, ImageStat\n",
    "from trdg import computer_text_generator, background_generator, distorsion_generator\n",
    "from trdg.utils import mask_to_bboxes, make_filename_valid"
   ]
  },
  {
   "cell_type": "code",
   "execution_count": null,
   "metadata": {},
   "outputs": [],
   "source": []
  }
 ],
 "metadata": {
  "kernelspec": {
   "display_name": "generate",
   "language": "python",
   "name": "python3"
  },
  "language_info": {
   "name": "python",
   "version": "3.10.14"
  }
 },
 "nbformat": 4,
 "nbformat_minor": 2
}
